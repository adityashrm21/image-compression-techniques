{
 "cells": [
  {
   "cell_type": "markdown",
   "metadata": {},
   "source": [
    "Note: most of this code was written as a part of the assignments at the UBC-MDS program."
   ]
  },
  {
   "cell_type": "code",
   "execution_count": 1,
   "metadata": {},
   "outputs": [],
   "source": [
    "import numpy as np\n",
    "from scipy.ndimage.filters import convolve\n",
    "import matplotlib.pyplot as plt\n",
    "import sys\n",
    "%matplotlib inline"
   ]
  },
  {
   "cell_type": "code",
   "execution_count": 2,
   "metadata": {},
   "outputs": [],
   "source": [
    "# Inputs: image, a 3d numpy array of size NxMx3, where the 3rd dimension is for the colour channels.\n",
    "# Outputs: an array of size NxM containing the energies\n",
    "\n",
    "# Computes the \"energy\" of an image, using the Laplacian of each colour channel and summing them up.\n",
    "# Inputs: image, a 3d numpy array of size NxMx3\n",
    "# Outputs: the energy image, a 2d numpy array of size NxM\n",
    "def energy(image): \n",
    "    dy = np.array([-1, 0, 1])[:,None,None]\n",
    "    dx = np.array([-1, 0, 1])[None,:,None]\n",
    "    energy_img = convolve(image, dx)**2 + convolve(image, dy)**2\n",
    "    return np.sum(energy_img, axis=2)\n",
    "\n",
    "# Find the minimum-energy horizontal seam in an image. \n",
    "# Inputs: energy, a 2d numpy array containing the energy values. Size NxM.\n",
    "# Outputs: a seam represented as a 1d array of length M, with all values between 0 and N-1. \n",
    "def find_horizontal_seam(energy):\n",
    "    return find_vertical_seam(energy.T)\n",
    "\n",
    "# Remove a vertical seam from an image:\n",
    "# Inputs:  image, a 2d numpy array containing the pixel values. Size NxM.\n",
    "#          seam, a 1d array (or list) containing the column index of each pixel in the seam. Length N, all values between 0 and M-1.\n",
    "# Outputs: a new image that is smaller by 1 column. Size N by M-1.\n",
    "def remove_vertical_seam(image, seam):\n",
    "    height = image.shape[0]\n",
    "    linear_inds = np.array(seam)+np.arange(image.shape[0])*image.shape[1]\n",
    "    new_image = np.zeros((height,image.shape[1]-1,3), dtype=\"uint8\")\n",
    "    for c in range(3):\n",
    "        temp = np.delete(image[:,:,c], linear_inds.astype(int)) \n",
    "        temp = np.reshape(temp, (height, image.shape[1]-1))\n",
    "        new_image[:,:,c] = temp\n",
    "    return new_image    \n",
    "\n",
    "# Same as remove_vertical_seam above, but for a horizontal seam. The output image is size N-1 by M.\n",
    "def remove_horizontal_seam(image, seam):\n",
    "    return np.transpose(remove_vertical_seam(np.transpose(image,(1,0,2)), seam), (1,0,2))\n",
    "\n",
    "# Resize an NxM image to a desired height and width. \n",
    "# Note: this function only makes images smaller. Enlarging an image is not implemented. \n",
    "# Inputs: image, a 3d numpy array of size NxMx3\n",
    "#         desired_width, an integer giving the desired width\n",
    "#         desired_height, an integer giving the desired height\n",
    "# Outputs: the resized image, now of size N x desired_width x 3\n",
    "def seam_carve(image, desired_height, desired_width):\n",
    "    while image.shape[1] > desired_width:\n",
    "        seam = find_vertical_seam(energy(image))\n",
    "        assert len(seam) == image.shape[0], \"the length of the seam must equal the height of the image\"\n",
    "        image = remove_vertical_seam(image, seam)\n",
    "        sys.stdout.write('\\rWidth is now %d' % image.shape[1])\n",
    "    print()\n",
    "    while image.shape[0] > desired_height:\n",
    "        seam = find_horizontal_seam(energy(image))\n",
    "        assert len(seam) == image.shape[1], \"the length of the seam must equal the width of the image\"\n",
    "        image = remove_horizontal_seam(image, seam)\n",
    "        sys.stdout.write('\\rHeight is now %d' % image.shape[0])\n",
    "    print()\n",
    "    return image\n"
   ]
  },
  {
   "cell_type": "markdown",
   "metadata": {},
   "source": [
    "### Recursive implementation"
   ]
  },
  {
   "cell_type": "code",
   "execution_count": 3,
   "metadata": {},
   "outputs": [],
   "source": [
    "def find_vertical_seam(energy):\n",
    "    costs = dict()\n",
    "    for i in range(energy.shape[1]):\n",
    "        best_seam, best_cost = fvs(energy, [i], 0.0)\n",
    "        costs[tuple(best_seam)] = best_cost\n",
    "    return min(costs, key=costs.get) # the best out of the M best seams\n",
    "\n",
    "def fvs(energy, seam, cost):\n",
    "    row = len(seam)-1\n",
    "    col = seam[-1]\n",
    "    \n",
    "    # if out of bounds on one of the two sides, return infinite energy\n",
    "    if col < 0 or col >= energy.shape[1]:\n",
    "        return seam, np.inf\n",
    "\n",
    "    cost += energy[row,col]\n",
    "    \n",
    "    # regular base case: reached bottom of image\n",
    "    if len(seam) == energy.shape[0]:\n",
    "        return seam, cost\n",
    "\n",
    "    return min((fvs(energy, seam+[col], cost),\n",
    "                fvs(energy, seam+[col+1],cost),\n",
    "                fvs(energy, seam+[col-1],cost)),key=lambda x:x[1])\n",
    "    # above: could make syntax nicer if I was willing to tolerate some more inefficiency\n",
    "    # by defining an energy function of seam and re-computing energy of the seam each time"
   ]
  },
  {
   "cell_type": "code",
   "execution_count": 4,
   "metadata": {},
   "outputs": [
    {
     "name": "stdout",
     "output_type": "stream",
     "text": [
      "(13, 13, 3)\n",
      "Width is now 12\n",
      "\n",
      "Width is now 12\n",
      "\n",
      "Width is now 12\n",
      "\n",
      "Width is now 12\n",
      "\n",
      "Width is now 12\n",
      "\n",
      "Width is now 12\n",
      "\n",
      "Width is now 12\n",
      "\n",
      "Width is now 12\n",
      "\n",
      "9.93 s ± 318 ms per loop (mean ± std. dev. of 7 runs, 1 loop each)\n"
     ]
    },
    {
     "ename": "NameError",
     "evalue": "name 'img2' is not defined",
     "output_type": "error",
     "traceback": [
      "\u001b[0;31m---------------------------------------------------------------------------\u001b[0m",
      "\u001b[0;31mNameError\u001b[0m                                 Traceback (most recent call last)",
      "\u001b[0;32m<ipython-input-4-977627cdd724>\u001b[0m in \u001b[0;36m<module>\u001b[0;34m()\u001b[0m\n\u001b[1;32m     12\u001b[0m \u001b[0mget_ipython\u001b[0m\u001b[0;34m(\u001b[0m\u001b[0;34m)\u001b[0m\u001b[0;34m.\u001b[0m\u001b[0mrun_line_magic\u001b[0m\u001b[0;34m(\u001b[0m\u001b[0;34m'timeit'\u001b[0m\u001b[0;34m,\u001b[0m \u001b[0;34m'img2 = seam_carve(img, h, w-1)'\u001b[0m\u001b[0;34m)\u001b[0m\u001b[0;34m\u001b[0m\u001b[0m\n\u001b[1;32m     13\u001b[0m \u001b[0mplt\u001b[0m\u001b[0;34m.\u001b[0m\u001b[0mfigure\u001b[0m\u001b[0;34m(\u001b[0m\u001b[0;34m)\u001b[0m\u001b[0;34m\u001b[0m\u001b[0m\n\u001b[0;32m---> 14\u001b[0;31m \u001b[0mplt\u001b[0m\u001b[0;34m.\u001b[0m\u001b[0mimshow\u001b[0m\u001b[0;34m(\u001b[0m\u001b[0mimg2\u001b[0m\u001b[0;34m)\u001b[0m\u001b[0;34m;\u001b[0m\u001b[0;34m\u001b[0m\u001b[0m\n\u001b[0m",
      "\u001b[0;31mNameError\u001b[0m: name 'img2' is not defined"
     ]
    },
    {
     "data": {
      "image/png": "[encoded data removed]",
      "text/plain": [
       "<Figure size 432x288 with 1 Axes>"
      ]
     },
     "metadata": {},
     "output_type": "display_data"
    },
    {
     "data": {
      "text/plain": [
       "<Figure size 432x288 with 0 Axes>"
      ]
     },
     "metadata": {},
     "output_type": "display_data"
    }
   ],
   "source": [
    "np.random.seed(1)\n",
    "h = 13\n",
    "w = 13\n",
    "img = np.random.randint(0,255,(h,w,3)).astype(\"uint8\")\n",
    "# img = plt.imread('mandrill.jpg')\n",
    "print(img.shape)\n",
    "plt.figure()\n",
    "plt.imshow(img)\n",
    "e = energy(img)\n",
    "# plt.imshow(e)\n",
    "# print(e)\n",
    "%timeit img2 = seam_carve(img, h, w-1)\n",
    "plt.figure()\n",
    "plt.imshow(img2);"
   ]
  },
  {
   "cell_type": "markdown",
   "metadata": {},
   "source": [
    "### Integer Linear Programming Implementation"
   ]
  },
  {
   "cell_type": "code",
   "execution_count": null,
   "metadata": {},
   "outputs": [],
   "source": [
    "import pulp\n",
    "\n",
    "def find_vertical_seam(energy):\n",
    "    N, M = energy.shape\n",
    "    \n",
    "    # initialize the optimization problem, give it a name\n",
    "    prob = pulp.LpProblem(\"Seam carving\", pulp.LpMinimize)\n",
    "    \n",
    "    # create the x_ij variables\n",
    "    x = pulp.LpVariable.dicts(\"pixels\",(list(range(N)),list(range(M))),0,1,pulp.LpInteger)\n",
    "    \n",
    "    # The objective function is being built here. The objective is the sum of energies in the seam.\n",
    "    objective_terms = list()\n",
    "    for i in range(N):\n",
    "        for j in range(M):\n",
    "            objective_terms.append(energy[i][j] * x[i][j])\n",
    "    prob += pulp.lpSum(objective_terms) # adds up all the terms in the list\n",
    "    \n",
    "    # Constraint #1: one pixel per row\n",
    "    for i in range(N):\n",
    "        prob += pulp.lpSum(x[i][j] for j in range(M)) == 1\n",
    "        \n",
    "    # Constraint #2: connectivity of seam\n",
    "    for i in range(N-1):\n",
    "        for j in range(M): # below: this says: x(i,j) - x(i+1,j-1) - x(i+1,j) - x(i+1,j+1) <= 0\n",
    "            prob += pulp.lpSum([x[i][j]]+[-x[i+1][k] for k in range(max(0,j-1),min(M,j+2))]) <= 0\n",
    "    \n",
    "    # Solve the problem\n",
    "    prob.solve()\n",
    "    \n",
    "    # Build up the seam by collecting the pixels in the optimal seam\n",
    "    # Note: you can access the values (0 or 1) of the variables with pulp.value(x[i][j])\n",
    "    \n",
    "    seam = []\n",
    "    for i in range(N):\n",
    "        for j in range(M):\n",
    "            if pulp.value(x[i][j]) == 1.0:\n",
    "                seam.append(j)        \n",
    "    return seam"
   ]
  },
  {
   "cell_type": "code",
   "execution_count": null,
   "metadata": {},
   "outputs": [],
   "source": [
    "np.random.seed(1)\n",
    "h = 31\n",
    "w = 31\n",
    "img = np.random.randint(0,255,(h,w,3)).astype(\"uint8\")\n",
    "# img = plt.imread('mandrill.jpg')\n",
    "print(img.shape)\n",
    "plt.figure()\n",
    "plt.imshow(img)\n",
    "e = energy(img)\n",
    "# plt.imshow(e)\n",
    "# print(e)\n",
    "img3 = seam_carve(img, h, w-1)\n",
    "%timeit seam_carve(img, h, w-1)\n",
    "plt.figure()\n",
    "plt.imshow(img3);"
   ]
  },
  {
   "cell_type": "markdown",
   "metadata": {},
   "source": [
    "### Dynamic Programming Implementation"
   ]
  },
  {
   "cell_type": "code",
   "execution_count": null,
   "metadata": {},
   "outputs": [],
   "source": [
    "def find_vertical_seam(energy):\n",
    "    \"\"\"\n",
    "    Function to get the vertical seam in a picture\n",
    "\n",
    "    The function takes an energy array for a picture and\n",
    "    finds the vertical seam with the minimum energy path\n",
    "    from the top to the bottom of the image.\n",
    "\n",
    "    Parameters\n",
    "    ----------\n",
    "    energy : 2-d array\n",
    "        The array values for the energy of a picture \n",
    "        (each pixel)\n",
    "\n",
    "    Returns\n",
    "    -------\n",
    "    list\n",
    "        A list containing the indices of the minimum energy\n",
    "        path from the top to the bottom of an image, i.e, the \n",
    "        vertical seam for the image.\n",
    "    \"\"\"\n",
    "    row = energy.shape[0]\n",
    "    col = energy.shape[1]\n",
    "    dp_energy = []\n",
    "    dp_energy.append(energy[0].tolist())\n",
    "        \n",
    "    for i in range(1, row):\n",
    "        temp = []\n",
    "        for j in range(col):\n",
    "            if j == 0:\n",
    "                temp.append(energy[i][j] + min(dp_energy[i-1][j], dp_energy[i-1][j+1]))\n",
    "            elif j == col - 1:\n",
    "                temp.append(energy[i][j] + min(dp_energy[i-1][j], dp_energy[i-1][j-1]))\n",
    "            else:\n",
    "                temp.append(energy[i][j] + min(dp_energy[i-1][j-1], dp_energy[i-1][j], dp_energy[i-1][j+1]))\n",
    "        dp_energy.append(temp)\n",
    "    \n",
    "    # backtracking to get the seam\n",
    "    seam = [0] * row\n",
    "    seam[row-1] = np.argmin(dp_energy[row-1])\n",
    "    for i in range(row-2, -1, -1):\n",
    "        j = seam[i+1]\n",
    "        if j == 0:\n",
    "            seam[i] = np.argmin(dp_energy[i][j:j+2]) + j\n",
    "        elif j == col - 1:\n",
    "            seam[i] = np.argmin(dp_energy[i][j-1:j+1]) + j-1\n",
    "        else:\n",
    "            seam[i] = np.argmin(dp_energy[i][j-1:j+2]) + j-1\n",
    "    return seam"
   ]
  },
  {
   "cell_type": "code",
   "execution_count": null,
   "metadata": {},
   "outputs": [],
   "source": [
    "np.random.seed(1)\n",
    "h = 13\n",
    "w = 13\n",
    "img = np.random.randint(0,255,(h,w,3)).astype(\"uint8\")\n",
    "# img = plt.imread('mandrill.jpg')\n",
    "print(img.shape)\n",
    "plt.figure()\n",
    "plt.imshow(img)\n",
    "e = energy(img)\n",
    "# plt.imshow(e)\n",
    "# print(e)\n",
    "img2 = seam_carve(img, h, w-1)\n",
    "plt.figure()\n",
    "plt.imshow(img2);"
   ]
  },
  {
   "cell_type": "markdown",
   "metadata": {},
   "source": [
    "The big-O running time for the iterative `find_vertical_seam` is $O(M*N)$ since we just loop over the rows and columns of a 2-d array same as the size of the energy matrix."
   ]
  },
  {
   "cell_type": "code",
   "execution_count": null,
   "metadata": {},
   "outputs": [],
   "source": [
    "np.random.seed(1)\n",
    "img = plt.imread('imgs/mandrill.jpg')\n",
    "print(img.shape)\n",
    "h = img.shape[0]//2\n",
    "w = img.shape[1]//2\n",
    "plt.figure()\n",
    "plt.imshow(img)\n",
    "e = energy(img)\n",
    "# plt.imshow(e)\n",
    "# print(e)\n",
    "img2 = seam_carve(img, h, w)\n",
    "plt.figure()\n",
    "plt.imshow(img2);\n",
    "\n",
    "#![](mandrill.jpg)"
   ]
  },
  {
   "cell_type": "code",
   "execution_count": null,
   "metadata": {},
   "outputs": [],
   "source": [
    "np.random.seed(1)\n",
    "img = plt.imread('imgs/halloween-jack-o-lantern-bucket-with-witch-hat-and-candles.jpg')\n",
    "print(img.shape)\n",
    "h = img.shape[0] - 10\n",
    "w = img.shape[1] - 10\n",
    "plt.figure()\n",
    "plt.imshow(img)\n",
    "e = energy(img)\n",
    "# plt.imshow(e)\n",
    "# print(e)\n",
    "img2 = seam_carve(img, h, w)\n",
    "plt.figure()\n",
    "plt.imshow(img2);\n",
    "\n",
    "#![](halloween-jack-o-lantern-bucket-with-witch-hat-and-candles.jpg)"
   ]
  },
  {
   "cell_type": "markdown",
   "metadata": {},
   "source": [
    "Comparing DP implementation with linear programming, we will find the time for random image with width = 31 for the DP implementation:"
   ]
  },
  {
   "cell_type": "code",
   "execution_count": null,
   "metadata": {},
   "outputs": [],
   "source": [
    "# run this code to compare DP with ILP\n",
    "# np.random.seed(1)\n",
    "# h = 31\n",
    "# w = 31\n",
    "# img = np.random.randint(0,255,(h,w,3)).astype(\"uint8\")\n",
    "# # img = plt.imread('mandrill.jpg')\n",
    "# print(img.shape)\n",
    "# plt.figure()\n",
    "# plt.imshow(img)\n",
    "# e = energy(img)\n",
    "# # plt.imshow(e)\n",
    "# # print(e)\n",
    "# img2 = seam_carve(img, h, w-1)\n",
    "# %timeit seam_carve(img, h, w-1)\n",
    "# plt.figure()\n",
    "# plt.imshow(img2);"
   ]
  },
  {
   "cell_type": "markdown",
   "metadata": {},
   "source": [
    "> If you run the above code, you will see that the time taken by DP implementation is around `3.98 ms` as compared to the `9.14 s` taken by the integer linear programming approach which is more than 2000 times faster! Dynamic programming is beautiful!"
   ]
  },
  {
   "cell_type": "code",
   "execution_count": null,
   "metadata": {},
   "outputs": [],
   "source": []
  }
 ],
 "metadata": {
  "anaconda-cloud": {},
  "kernelspec": {
   "display_name": "Python 3",
   "language": "python",
   "name": "python3"
  },
  "language_info": {
   "codemirror_mode": {
    "name": "ipython",
    "version": 3
   },
   "file_extension": ".py",
   "mimetype": "text/x-python",
   "name": "python",
   "nbconvert_exporter": "python",
   "pygments_lexer": "ipython3",
   "version": "3.6.5"
  }
 },
 "nbformat": 4,
 "nbformat_minor": 1
}
